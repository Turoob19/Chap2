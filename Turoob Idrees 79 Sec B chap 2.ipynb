{
 "cells": [
  {
   "cell_type": "markdown",
   "metadata": {},
   "source": [
    "# Practice 2.1"
   ]
  },
  {
   "cell_type": "code",
   "execution_count": 13,
   "metadata": {},
   "outputs": [
    {
     "name": "stdout",
     "output_type": "stream",
     "text": [
      "the ans of no.1 is:  15\n",
      "ans of no.2 is:  24.333333333333332\n",
      "ans of no.3 is:  5\n",
      "ans of no.4 is:  38\n",
      "ans of no.5 is:  1024\n",
      "ans of n0.6 is:  3\n",
      "ans of no.7 is:  29.95\n"
     ]
    }
   ],
   "source": [
    "#1\n",
    "sum=int(1+2+3+4+5)\n",
    "print(\"the ans of no.1 is: \",sum) \n",
    "#2\n",
    "var=float(23+19+31)/3\n",
    "print(\"ans of no.2 is: \",var)\n",
    "#3\n",
    "times=int(403//73)\n",
    "print(\"ans of no.3 is: \",times)\n",
    "#4\n",
    "modulus=int(403%73)\n",
    "print(\"ans of no.4 is: \",modulus)\n",
    "#5\n",
    "exp=int(2**10)\n",
    "print(\"ans of no.5 is: \",exp)\n",
    "#6\n",
    "abso=abs(54-57)\n",
    "print(\"ans of n0.6 is: \",abso)\n",
    "#7\n",
    "min_value= min(34.99, 29.95, 31.50) \n",
    "print(\"ans of no.7 is: \",min_value)"
   ]
  },
  {
   "cell_type": "markdown",
   "metadata": {},
   "source": [
    "# Practice 2.3"
   ]
  },
  {
   "cell_type": "code",
   "execution_count": 2,
   "metadata": {},
   "outputs": [
    {
     "name": "stdout",
     "output_type": "stream",
     "text": [
      "25\n"
     ]
    }
   ],
   "source": [
    "a=3\n",
    "b=4\n",
    "c= a*a + b*b\n",
    "print(c)"
   ]
  },
  {
   "cell_type": "markdown",
   "metadata": {},
   "source": [
    "# Practice 2.4"
   ]
  },
  {
   "cell_type": "code",
   "execution_count": 12,
   "metadata": {},
   "outputs": [
    {
     "name": "stdout",
     "output_type": "stream",
     "text": [
      "student of UIT\n",
      "student student student student student student student student student student \n",
      "student of of UIT UIT UIT\n",
      "student of student of student of student of student of student of student of \n",
      "ofofUIT ofofUIT ofofUIT \n"
     ]
    }
   ],
   "source": [
    "s1=\"student\" \n",
    "s2=\"of\"\n",
    "s3=\"UIT\"\n",
    "\n",
    "#1\n",
    "print(s1+' '+s2+' '+s3)\n",
    "#2\n",
    "print((s1 + ' ')*10)\n",
    "#3\n",
    "print(( s1 + ' ') + 2 * (s2 + ' ') + 2 * (s3 + ' ') + s3 )\n",
    "#4\n",
    "print(7 * (s1 + ' '+ s2 + ' ') )\n",
    "#5\n",
    "print( 3 * (2 * s2 + s3 + ' ') )"
   ]
  },
  {
   "cell_type": "markdown",
   "metadata": {},
   "source": [
    "# Program 2.5"
   ]
  },
  {
   "cell_type": "code",
   "execution_count": 15,
   "metadata": {},
   "outputs": [
    {
     "name": "stdout",
     "output_type": "stream",
     "text": [
      "I\n",
      "n\n",
      "u\n",
      "t\n",
      "i\n"
     ]
    }
   ],
   "source": [
    "#indexing\n",
    "s=\"Introduction\"\n",
    " \n",
    "#1\n",
    "print(s[0])\n",
    "#2\n",
    "print(s[1])\n",
    "#3\n",
    "print(s[6])\n",
    "#4\n",
    "print(s[8])\n",
    "#5\n",
    "print(s[9])"
   ]
  },
  {
   "cell_type": "markdown",
   "metadata": {},
   "source": [
    "# Program 2.7"
   ]
  },
  {
   "cell_type": "code",
   "execution_count": 43,
   "metadata": {},
   "outputs": [
    {
     "name": "stdout",
     "output_type": "stream",
     "text": [
      "1\n",
      "[1, 2, 3, 4, 5, 6, 7, 4, 8]\n",
      "8\n",
      "None\n",
      "4.444444444444445\n"
     ]
    }
   ],
   "source": [
    "grades=[1,2,3,4,5,6,7,8]\n",
    "\n",
    "#1\n",
    "print(grades.count(7))\n",
    "#2\n",
    "grades.insert(-1, 4)\n",
    "print(grades)\n",
    "#3\n",
    "print(max(grades))\n",
    "#4\n",
    "print(grades.sort())\n",
    "#5\n",
    "print(sum(grades)/len(grades))\n"
   ]
  },
  {
   "cell_type": "markdown",
   "metadata": {},
   "source": [
    "# Program 2.2"
   ]
  },
  {
   "cell_type": "code",
   "execution_count": 53,
   "metadata": {},
   "outputs": [
    {
     "name": "stdout",
     "output_type": "stream",
     "text": [
      "False\n",
      "True\n",
      "True\n",
      "False\n",
      "True\n",
      "False\n",
      "True\n"
     ]
    }
   ],
   "source": [
    "#1\n",
    "var=2+2<4\n",
    "print(var)\n",
    "#2\n",
    "a=7//3==1+1\n",
    "print(a)\n",
    "#3\n",
    "b=(3**2 + 4**2==25)\n",
    "print(b)\n",
    "#4\n",
    "c= 2+4+6>12\n",
    "print(c)\n",
    "#5\n",
    "d=(1387%19==0)\n",
    "print(d)\n",
    "#6\n",
    "e=(31%2==0)\n",
    "print(e)\n",
    "#7\n",
    "f=min(34.99, 29.95, 31.50) < 30.00\n",
    "print(f)"
   ]
  },
  {
   "cell_type": "markdown",
   "metadata": {},
   "source": [
    "# Program 2.6"
   ]
  },
  {
   "cell_type": "code",
   "execution_count": 59,
   "metadata": {},
   "outputs": [
    {
     "name": "stdout",
     "output_type": "stream",
     "text": [
      "band\n",
      "tangent\n"
     ]
    }
   ],
   "source": [
    "words=['band','code','tangent','canteen','python']\n",
    "\n",
    "#minimum word\n",
    "print(min(words))\n",
    "#maximun word\n",
    "print(max(words))"
   ]
  },
  {
   "cell_type": "markdown",
   "metadata": {},
   "source": [
    "# Program 2.8"
   ]
  },
  {
   "cell_type": "code",
   "execution_count": 66,
   "metadata": {},
   "outputs": [
    {
     "name": "stdout",
     "output_type": "stream",
     "text": [
      "False\n",
      "True\n",
      "True\n",
      "18\n",
      "True\n"
     ]
    }
   ],
   "source": [
    "#parenthese\n",
    "#1\n",
    "a=((2 + 3) == 4) or (a >= 5) \n",
    "print(a)\n",
    "\n",
    "#2\n",
    "lst=[2,3,4,7,8,5,6,1]\n",
    "b=(((lst[1]) * (-3)) < (-10)) == 0 \n",
    "print(b)\n",
    "#3\n",
    "c=(((lst[1]) * (-3)) < (-10)) in [0, True] \n",
    "print(c)\n",
    "\n",
    "#4\n",
    "d= 2 * (3**2) \n",
    "print(d)\n",
    "#5\n",
    "e= (4 / 2) in [1, 2, 3] \n",
    "print(e)"
   ]
  },
  {
   "cell_type": "markdown",
   "metadata": {},
   "source": [
    "# Program 2.9"
   ]
  },
  {
   "cell_type": "code",
   "execution_count": 73,
   "metadata": {},
   "outputs": [
    {
     "name": "stdout",
     "output_type": "stream",
     "text": [
      "0\n",
      "1.3333333333333333\n",
      "4\n",
      "1\n"
     ]
    }
   ],
   "source": [
    "#1\n",
    "a= 0 + 0\n",
    "print(a)\n",
    "#2\n",
    "b=4/3\n",
    "print(b)\n",
    "#3\n",
    "c=2 + 2\n",
    "print(c)\n",
    "#4\n",
    "d= 0 or 1\n",
    "print(d)"
   ]
  },
  {
   "cell_type": "markdown",
   "metadata": {},
   "source": [
    "# Program 2.10"
   ]
  },
  {
   "cell_type": "code",
   "execution_count": 78,
   "metadata": {},
   "outputs": [
    {
     "name": "stdout",
     "output_type": "stream",
     "text": [
      "6.4031242374328485\n",
      "False\n",
      "50.26548245743669\n",
      "False\n"
     ]
    }
   ],
   "source": [
    "import math\n",
    "a=4\n",
    "b=5\n",
    "\n",
    "#1\n",
    "c= math.sqrt(a**2 + b**2) \n",
    "print(c)\n",
    "#2\n",
    "d=math.sqrt(a**2 + b**2) == 5 \n",
    "print(d)\n",
    "#3\n",
    "e= math.pi * a**2\n",
    "print(e)\n",
    "#4\n",
    "x=7\n",
    "y=8\n",
    "r=3\n",
    "f=(x - a)**2 + (y - b)**2 < r**2\n",
    "print(f)"
   ]
  },
  {
   "cell_type": "markdown",
   "metadata": {},
   "source": [
    "# Exercises"
   ]
  },
  {
   "cell_type": "markdown",
   "metadata": {},
   "source": [
    "# Program 2.11"
   ]
  },
  {
   "cell_type": "code",
   "execution_count": 8,
   "metadata": {},
   "outputs": [
    {
     "name": "stdout",
     "output_type": "stream",
     "text": [
      "-28\n",
      "10.5\n",
      "9.5367431640625e-07\n",
      "71.40983606557377\n",
      "25\n"
     ]
    }
   ],
   "source": [
    "#1\n",
    "lst=[-7,-6,-5,-4,-3,-2,-1]\n",
    "print(sum(lst))\n",
    "#2\n",
    "s_17= 9\n",
    "s_24=10\n",
    "s_21=11\n",
    "s_27=12\n",
    "print((s_17+s_24+s_21+s_27)/4)\n",
    "#3\n",
    "power=2**-20\n",
    "print(power)\n",
    "#4\n",
    "times=4356/61\n",
    "print(times)\n",
    "#5\n",
    "remainder=4356%61\n",
    "print(remainder)   "
   ]
  },
  {
   "cell_type": "markdown",
   "metadata": {},
   "source": [
    "# Program 2.12"
   ]
  },
  {
   "cell_type": "code",
   "execution_count": 18,
   "metadata": {},
   "outputs": [
    {
     "name": "stdout",
     "output_type": "stream",
     "text": [
      "-+\n",
      "-+-\n",
      "+--\n",
      "+--+--\n",
      "+--+--+--+--+--+--+--+--+--+--+\n",
      "+-+++--+-+++--+-+++--+-+++--+-+++--\n"
     ]
    }
   ],
   "source": [
    "s1='-'\n",
    "s2='+'\n",
    "\n",
    "#1\n",
    "print(s1+s2)\n",
    "#2\n",
    "print(s1+s2+s1)\n",
    "#3\n",
    "print(s2+s1*2)\n",
    "#4\n",
    "print((s2+s1*2)*2)\n",
    "#5\n",
    "print((s2+s1*2)*10+s2)\n",
    "#6\n",
    "print((s2+s1+s2*3+s1*2)*5)"
   ]
  },
  {
   "cell_type": "markdown",
   "metadata": {},
   "source": [
    "# Program 2.13"
   ]
  },
  {
   "cell_type": "code",
   "execution_count": 21,
   "metadata": {},
   "outputs": [
    {
     "name": "stdout",
     "output_type": "stream",
     "text": [
      "a\n",
      "c\n",
      "z\n",
      "y\n",
      "q\n"
     ]
    }
   ],
   "source": [
    "s = 'abcdefghijklmnopqrstuvwxyz'\n",
    "print(s[0])\n",
    "print(s[2])\n",
    "print(s[25])\n",
    "print(s[24])\n",
    "print(s[16])"
   ]
  },
  {
   "cell_type": "markdown",
   "metadata": {},
   "source": [
    "# Program 2.14"
   ]
  },
  {
   "cell_type": "code",
   "execution_count": 51,
   "metadata": {},
   "outputs": [
    {
     "name": "stdout",
     "output_type": "stream",
     "text": [
      "true\n",
      "false\n",
      "false\n",
      "false\n",
      "true\n",
      "false\n"
     ]
    }
   ],
   "source": [
    "s='goodbye'\n",
    "#1\n",
    "if s[0]=='g':\n",
    "    print(\"true\")\n",
    "else:\n",
    "    print(\"false\")\n",
    "#2\n",
    "if s[6]=='g':\n",
    "    print(\"true\")\n",
    "else:\n",
    "    print(\"false\")\n",
    "#3\n",
    "if s[0]=='g'and s[1]=='a':\n",
    "    print(\"true\")\n",
    "else:\n",
    "    print(\"false\")\n",
    "#4\n",
    "if s[6]=='x':\n",
    "    print(\"true\")\n",
    "else:\n",
    "    print(\"false\")\n",
    "#5\n",
    "if s[3]=='d':\n",
    "    print(\"true\")\n",
    "else:\n",
    "    print(\"false\")\n",
    "#6\n",
    "if s[0]==s[6]:\n",
    "    print(\"true\")\n",
    "else:\n",
    "    print(\"false\")    "
   ]
  },
  {
   "cell_type": "markdown",
   "metadata": {},
   "source": [
    "# Program 2.15"
   ]
  },
  {
   "cell_type": "code",
   "execution_count": 52,
   "metadata": {},
   "outputs": [
    {
     "name": "stdout",
     "output_type": "stream",
     "text": [
      "1\n",
      "['misinterpretation', 'misrepresentation']\n",
      "False\n",
      "yes\n"
     ]
    }
   ],
   "source": [
    "word1=str(\"anachronistically\")\n",
    "word2=str(\"counterintuitive\")\n",
    "#a\n",
    "print((len(word1))-(len(word2)))\n",
    "#b\n",
    "L=['misinterpretation','misrepresentation']\n",
    "L.sort()\n",
    "print(L)\n",
    "#c\n",
    "word=\"floccinaucinihilipilification\"\n",
    "B= \"e\" in word\n",
    "print(B)\n",
    "#d\n",
    "word=\"counterrevolution\"\n",
    "word1=\"counter\"\n",
    "word2=\"revolution\"\n",
    "if len(word) == len(word1)+len(word2) :\n",
    "    print (\"yes\")\n",
    "else:\n",
    "    print (\"no\")\n"
   ]
  },
  {
   "cell_type": "markdown",
   "metadata": {},
   "source": [
    "# Program 2.16"
   ]
  },
  {
   "cell_type": "code",
   "execution_count": 53,
   "metadata": {},
   "outputs": [
    {
     "name": "stdout",
     "output_type": "stream",
     "text": [
      "6.5\n",
      "My fullname is John Fitzgerald Kennedy\n"
     ]
    }
   ],
   "source": [
    "#a\n",
    "a=6\n",
    "b=7\n",
    "#b\n",
    "c=(a+b)/2\n",
    "print(c)\n",
    "#c\n",
    "inventory= ['paper','staples','pencils']\n",
    "#d\n",
    "first= \"John\"\n",
    "middle= \"Fitzgerald\"\n",
    "last= \"Kennedy\"\n",
    "#e\n",
    "fullname= first + \" \" + middle + \" \" + last\n",
    "print(\"My fullname is \"+ fullname)"
   ]
  },
  {
   "cell_type": "markdown",
   "metadata": {},
   "source": [
    "# Program 2.17"
   ]
  },
  {
   "cell_type": "code",
   "execution_count": 66,
   "metadata": {},
   "outputs": [
    {
     "name": "stdout",
     "output_type": "stream",
     "text": [
      "True\n",
      "False\n",
      "False\n",
      "False\n",
      "False\n"
     ]
    }
   ],
   "source": [
    "#1\n",
    "print(17+(-9)<10)\n",
    "#2\n",
    "inventory= ['paper','staples','pencils']\n",
    "fullname= first + \" \" + middle + \" \" + last\n",
    "print(len(inventory)*5==len(fullname))\n",
    "#3\n",
    "a=6\n",
    "b=7\n",
    "c=(a+b)/2\n",
    "print(c>24)\n",
    "#5\n",
    "first= \"John\"\n",
    "middle= \"Fitzgerald\"\n",
    "last= \"Kennedy\"\n",
    "print(len(first)<len(middle)<len(last))\n",
    "#6\n",
    "print(len(inventory)==0 or len(inventory)==10)"
   ]
  },
  {
   "cell_type": "markdown",
   "metadata": {},
   "source": [
    "# Program 2.18"
   ]
  },
  {
   "cell_type": "code",
   "execution_count": 3,
   "metadata": {},
   "outputs": [
    {
     "name": "stdout",
     "output_type": "stream",
     "text": [
      "False\n"
     ]
    }
   ],
   "source": [
    "#1\n",
    "flowers=[ 'rose', 'bougainvillea', 'yucca','marigold','daylilly','lilly of the valley']\n",
    "#2\n",
    "print(flowers=='potato')\n",
    "#3\n",
    "thorny=['rose', 'bougainvillea', 'yucca']\n",
    "#4\n",
    "poisonous=['lilly of the valley']\n",
    "#5\n",
    "dangerous=['rose', 'bougainvillea', 'yucca','lilly of the valley']"
   ]
  },
  {
   "cell_type": "markdown",
   "metadata": {},
   "source": [
    "# Program 2.19"
   ]
  },
  {
   "cell_type": "code",
   "execution_count": 2,
   "metadata": {},
   "outputs": [
    {
     "name": "stdout",
     "output_type": "stream",
     "text": [
      "5\n",
      "6\n",
      "45.45454545454545\n",
      "None\n"
     ]
    }
   ],
   "source": [
    "answers = ['Y', 'N', 'N', 'Y', 'N', 'Y', 'Y', 'Y', 'N', 'N', 'N']\n",
    "#1\n",
    "numYes=answers.count('Y')\n",
    "print(numYes)\n",
    "#2\n",
    "numNo=answers.count('N')\n",
    "print(numNo)\n",
    "#3\n",
    "percentYes=(5/11)*100\n",
    "print(percentYes)\n",
    "#4\n",
    "A_2=answers.sort()\n",
    "print(A_2)"
   ]
  },
  {
   "cell_type": "markdown",
   "metadata": {},
   "source": [
    "# Program 2.20"
   ]
  },
  {
   "cell_type": "code",
   "execution_count": 5,
   "metadata": {},
   "outputs": [
    {
     "name": "stdout",
     "output_type": "stream",
     "text": [
      "pots\n"
     ]
    }
   ],
   "source": [
    "s='stop'\n",
    "rev_str=''.join(reversed(s))\n",
    "print(rev_str)"
   ]
  },
  {
   "cell_type": "markdown",
   "metadata": {},
   "source": [
    "# Program 2.23"
   ]
  },
  {
   "cell_type": "code",
   "execution_count": null,
   "metadata": {},
   "outputs": [],
   "source": [
    "L=['Jan','Feb','Mar','May']\n",
    "#a\n",
    "L. insert(3, \"Apr\")\n",
    "print(L)\n",
    "#b\n",
    "L.append(\"Jun\")\n",
    "print(L)\n",
    "#c\n",
    "L.pop()\n",
    "print()\n",
    "#d\n",
    "L.remove('Mar')\n",
    "print(L)\n",
    "#e\n",
    "L.reverse()\n",
    "print(L)\n",
    "#f\n",
    "L.sort()\n",
    "print(L)"
   ]
  },
  {
   "cell_type": "code",
   "execution_count": 6,
   "metadata": {},
   "outputs": [
    {
     "ename": "AttributeError",
     "evalue": "'tuple' object has no attribute 'reverse'",
     "output_type": "error",
     "traceback": [
      "\u001b[1;31m---------------------------------------------------------------------------\u001b[0m",
      "\u001b[1;31mAttributeError\u001b[0m                            Traceback (most recent call last)",
      "\u001b[1;32m<ipython-input-6-278b4787f24f>\u001b[0m in \u001b[0;36m<module>\u001b[1;34m\u001b[0m\n\u001b[0;32m      1\u001b[0m \u001b[0mT\u001b[0m\u001b[1;33m=\u001b[0m\u001b[1;33m(\u001b[0m\u001b[1;34m\"Jan\"\u001b[0m\u001b[1;33m,\u001b[0m\u001b[1;34m\"Feb\"\u001b[0m\u001b[1;33m,\u001b[0m\u001b[1;34m\"Mar\"\u001b[0m\u001b[1;33m,\u001b[0m\u001b[1;34m\"May\"\u001b[0m\u001b[1;33m)\u001b[0m\u001b[1;33m\u001b[0m\u001b[1;33m\u001b[0m\u001b[0m\n\u001b[0;32m      2\u001b[0m \u001b[1;31m#a\u001b[0m\u001b[1;33m\u001b[0m\u001b[1;33m\u001b[0m\u001b[1;33m\u001b[0m\u001b[0m\n\u001b[1;32m----> 3\u001b[1;33m \u001b[0mT\u001b[0m\u001b[1;33m.\u001b[0m\u001b[0mreverse\u001b[0m\u001b[1;33m(\u001b[0m\u001b[1;33m)\u001b[0m\u001b[1;33m\u001b[0m\u001b[1;33m\u001b[0m\u001b[0m\n\u001b[0m\u001b[0;32m      4\u001b[0m \u001b[0mprint\u001b[0m\u001b[1;33m(\u001b[0m\u001b[0mthistuple\u001b[0m\u001b[1;33m)\u001b[0m\u001b[1;33m\u001b[0m\u001b[1;33m\u001b[0m\u001b[0m\n",
      "\u001b[1;31mAttributeError\u001b[0m: 'tuple' object has no attribute 'reverse'"
     ]
    }
   ],
   "source": [
    "T=(\"Jan\",\"Feb\",\"Mar\",\"May\")\n",
    "#a\n",
    "T.reverse()\n",
    "print(thistuple)\n"
   ]
  },
  {
   "cell_type": "markdown",
   "metadata": {},
   "source": [
    "# Program 2.26"
   ]
  },
  {
   "cell_type": "markdown",
   "metadata": {},
   "source": [
    "(x,y)=(0, 0)\n",
    "(a) (0; 0)\n",
    "(b) (10; 10)\n",
    "(c) (6; 6)\n",
    "(d) (7; 8)"
   ]
  },
  {
   "cell_type": "code",
   "execution_count": 9,
   "metadata": {},
   "outputs": [
    {
     "name": "stdout",
     "output_type": "stream",
     "text": [
      "HIT\n",
      "HIT\n",
      "HIT\n",
      "HIT\n"
     ]
    }
   ],
   "source": [
    "from math import sqrt\n",
    "xaxis= [0,10,6,7]\n",
    "yaxis= [0,10,6,8]\n",
    "R= 10\n",
    "x=0\n",
    "y=0\n",
    "for x1 in xaxis:\n",
    "        for y1 in yaxis:\n",
    "                D = sqrt((x1 - x)^2 + (y1 - y)^2)\n",
    "        if D<=R:\n",
    "            print(\"HIT\")\n",
    "            \n",
    "        else:\n",
    "            print(\"MISS\")\n",
    "            \n",
    "            break"
   ]
  },
  {
   "cell_type": "markdown",
   "metadata": {},
   "source": [
    "# Program 2.27"
   ]
  },
  {
   "cell_type": "code",
   "execution_count": 10,
   "metadata": {},
   "outputs": [
    {
     "name": "stdout",
     "output_type": "stream",
     "text": [
      "15.455515858074026\n",
      "0.0\n",
      "16.972290884929595\n",
      "23.636140191205424\n"
     ]
    }
   ],
   "source": [
    "#1\n",
    "#to calculate height\n",
    "from math import sin\n",
    "length= 16\n",
    "deg= 75\n",
    "pi= 3.142\n",
    "rad= pi*(deg/180)\n",
    "height= length* (sin(rad))\n",
    "print(height)\n",
    "#2\n",
    "#to calculate height\n",
    "from math import sin\n",
    "length= 20\n",
    "deg= 0\n",
    "pi= 3.142\n",
    "rad= pi*(deg/180)\n",
    "height= length* (sin(rad))\n",
    "print(height)\n",
    "#3\n",
    "#to calculate height\n",
    "from math import sin\n",
    "length= 24\n",
    "deg= 45\n",
    "pi=3.142\n",
    "rad= pi*(deg/180)\n",
    "height= length* (sin(rad))\n",
    "print(height)\n",
    "#4\n",
    "#to calculate heigth\n",
    "from math import sin\n",
    "length= 24\n",
    "deg= 80\n",
    "pi= 3.142\n",
    "rad= pi*(deg/180)\n",
    "height= length* (sin(rad))\n",
    "print(height)"
   ]
  },
  {
   "cell_type": "markdown",
   "metadata": {},
   "source": [
    "# Program 2.28"
   ]
  },
  {
   "cell_type": "code",
   "execution_count": 11,
   "metadata": {},
   "outputs": [
    {
     "name": "stdout",
     "output_type": "stream",
     "text": [
      "3\n",
      "17\n",
      "[27, 23, 19, 17, 13, 9, 7]\n",
      "[27, 23, 19, 17, 13, 9, 7]\n"
     ]
    }
   ],
   "source": [
    "A=[7,9,13,17,19,23,27]\n",
    "#a\n",
    "middle=int(len(A)/2)\n",
    "print(A.index(17))\n",
    "#b\n",
    "print(A[middle])\n",
    "#c\n",
    "A.sort(reverse= True)\n",
    "print(A)\n",
    "#d\n",
    "A.remove(7)\n",
    "A.append(7)\n",
    "print(A)"
   ]
  },
  {
   "cell_type": "code",
   "execution_count": null,
   "metadata": {},
   "outputs": [],
   "source": []
  }
 ],
 "metadata": {
  "kernelspec": {
   "display_name": "Python 3",
   "language": "python",
   "name": "python3"
  },
  "language_info": {
   "codemirror_mode": {
    "name": "ipython",
    "version": 3
   },
   "file_extension": ".py",
   "mimetype": "text/x-python",
   "name": "python",
   "nbconvert_exporter": "python",
   "pygments_lexer": "ipython3",
   "version": "3.7.3"
  }
 },
 "nbformat": 4,
 "nbformat_minor": 2
}
